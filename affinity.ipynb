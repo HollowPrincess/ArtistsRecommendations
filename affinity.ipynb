{
 "cells": [
  {
   "cell_type": "code",
   "execution_count": 1,
   "metadata": {
    "colab": {
     "base_uri": "https://localhost:8080/",
     "height": 575
    },
    "colab_type": "code",
    "collapsed": true,
    "executionInfo": {
     "elapsed": 15157,
     "status": "ok",
     "timestamp": 1592205222358,
     "user": {
      "displayName": "Света Сорокина",
      "photoUrl": "https://lh3.googleusercontent.com/a-/AOh14GhP5b7WHhwRcbIn8yB21S2mZi9tlMCD4aFLmFcr=s64",
      "userId": "00408643672459262753"
     },
     "user_tz": -180
    },
    "id": "TDaAhAokq_ep",
    "outputId": "32e47882-5748-4e43-d111-dc9b5c94ea0b"
   },
   "outputs": [
    {
     "name": "stdout",
     "output_type": "stream",
     "text": [
      "Collecting nptyping\n",
      "  Downloading https://files.pythonhosted.org/packages/da/64/0de4061bfccce93341621b2316dcd3a7f367b4df9d4a3fc9cf48fd7e02e4/nptyping-1.1.0-py3-none-any.whl\n",
      "Collecting typish>=1.5.2\n",
      "\u001b[?25l  Downloading https://files.pythonhosted.org/packages/8c/cd/ef13e2c6ebe1c4c062d463160207937bf841b58d38d38d47c33384aaae36/typish-1.7.0-py3-none-any.whl (43kB)\n",
      "\u001b[K     |████████████████████████████████| 51kB 2.6MB/s \n",
      "\u001b[?25hRequirement already satisfied: numpy in /usr/local/lib/python3.6/dist-packages (from nptyping) (1.18.5)\n",
      "Installing collected packages: typish, nptyping\n",
      "Successfully installed nptyping-1.1.0 typish-1.7.0\n",
      "Collecting ml_metrics\n",
      "  Downloading https://files.pythonhosted.org/packages/c1/e7/c31a2dd37045a0c904bee31c2dbed903d4f125a6ce980b91bae0c961abb8/ml_metrics-0.1.4.tar.gz\n",
      "Requirement already satisfied: numpy in /usr/local/lib/python3.6/dist-packages (from ml_metrics) (1.18.5)\n",
      "Requirement already satisfied: pandas in /usr/local/lib/python3.6/dist-packages (from ml_metrics) (1.0.4)\n",
      "Requirement already satisfied: python-dateutil>=2.6.1 in /usr/local/lib/python3.6/dist-packages (from pandas->ml_metrics) (2.8.1)\n",
      "Requirement already satisfied: pytz>=2017.2 in /usr/local/lib/python3.6/dist-packages (from pandas->ml_metrics) (2018.9)\n",
      "Requirement already satisfied: six>=1.5 in /usr/local/lib/python3.6/dist-packages (from python-dateutil>=2.6.1->pandas->ml_metrics) (1.12.0)\n",
      "Building wheels for collected packages: ml-metrics\n",
      "  Building wheel for ml-metrics (setup.py) ... \u001b[?25l\u001b[?25hdone\n",
      "  Created wheel for ml-metrics: filename=ml_metrics-0.1.4-cp36-none-any.whl size=7850 sha256=ab549a216d69e7f07b7e241ae924c2aafb7ad5a43ae23e7dcf0e6aec847d7621\n",
      "  Stored in directory: /root/.cache/pip/wheels/b3/61/2d/776be7b8a4f14c5db48c8e5451451cabc58dc6aa7ee3801163\n",
      "Successfully built ml-metrics\n",
      "Installing collected packages: ml-metrics\n",
      "Successfully installed ml-metrics-0.1.4\n",
      "Requirement already satisfied: hyperopt in /usr/local/lib/python3.6/dist-packages (0.1.2)\n",
      "Requirement already satisfied: scipy in /usr/local/lib/python3.6/dist-packages (from hyperopt) (1.4.1)\n",
      "Requirement already satisfied: future in /usr/local/lib/python3.6/dist-packages (from hyperopt) (0.16.0)\n",
      "Requirement already satisfied: six in /usr/local/lib/python3.6/dist-packages (from hyperopt) (1.12.0)\n",
      "Requirement already satisfied: networkx in /usr/local/lib/python3.6/dist-packages (from hyperopt) (2.4)\n",
      "Requirement already satisfied: pymongo in /usr/local/lib/python3.6/dist-packages (from hyperopt) (3.10.1)\n",
      "Requirement already satisfied: numpy in /usr/local/lib/python3.6/dist-packages (from hyperopt) (1.18.5)\n",
      "Requirement already satisfied: tqdm in /usr/local/lib/python3.6/dist-packages (from hyperopt) (4.41.1)\n",
      "Requirement already satisfied: decorator>=4.3.0 in /usr/local/lib/python3.6/dist-packages (from networkx->hyperopt) (4.4.2)\n"
     ]
    }
   ],
   "source": [
    "#\"\"\"\n",
    "!pip install nptyping\n",
    "!pip install ml_metrics\n",
    "!pip install hyperopt\n",
    "#\"\"\""
   ]
  },
  {
   "cell_type": "code",
   "execution_count": 0,
   "metadata": {
    "colab": {},
    "colab_type": "code",
    "id": "YcEX1H-Bi78P"
   },
   "outputs": [],
   "source": [
    "import pandas as pd\n",
    "import numpy as np\n",
    "from scipy.sparse import csr_matrix, vstack, save_npz, load_npz\n",
    "import sys\n",
    "from sklearn.preprocessing import LabelEncoder\n",
    "from sklearn.model_selection import train_test_split\n",
    "import ml_metrics \n",
    "from typing import Dict, Any\n",
    "from nptyping import NDArray\n",
    "from sklearn.cluster import AffinityPropagation, MiniBatchKMeans\n",
    "from sklearn.decomposition import TruncatedSVD\n",
    "from sklearn.metrics import davies_bouldin_score\n",
    "\n",
    "from hyperopt import fmin, tpe, STATUS_OK, STATUS_FAIL, Trials\n",
    "from hyperopt import hp\n",
    "from matplotlib import pyplot as plt\n",
    "\n",
    "DATA_DIR = './drive/My Drive/Colab Notebooks/VK_internship/'\n",
    "sys.path.append(DATA_DIR)\n",
    "recommendation = __import__(\"recommendation\") "
   ]
  },
  {
   "cell_type": "code",
   "execution_count": 0,
   "metadata": {
    "colab": {},
    "colab_type": "code",
    "id": "f8nLg34G1UaN"
   },
   "outputs": [],
   "source": [
    "class HPOpt(object):\n",
    "    \"\"\"\n",
    "    Tree Of Parzen Estimators для оптимизации Affinity Propagation.\n",
    "    В качестве функции оптимизации была взята метрика davies_bouldin_score\n",
    "    \"\"\"\n",
    "    def __init__(self, dtrain, estimator):\n",
    "        self.dtrain = dtrain\n",
    "        self.estimator = estimator\n",
    "\n",
    "    def process(self, fn_name, space, trials, algo, max_evals):\n",
    "        fn = getattr(self, fn_name)\n",
    "        result = fmin(fn=fn, space=space, \n",
    "                      algo=algo, max_evals=max_evals, \n",
    "                      trials=trials)\n",
    "        return result, trials\n",
    "\n",
    "    def bayes_opt_tune_Affinity(self, params_dict):\n",
    "        estimator = self.estimator.set_params(**params_dict)\n",
    "        # К сожалению, метод AffinityPropagation из библиотеки не работает \n",
    "        # со sparse матрицами, хоть в документации и утверждается обратное\n",
    "        estimator = estimator.fit(self.dtrain.toarray())\n",
    "        # функция davies_bouldin_score выдает ошибки в крайних случаях:\n",
    "        # когда кластер один и когда количество кластеров соответствует числу элементов\n",
    "        try: \n",
    "            score = davies_bouldin_score(self.dtrain.toarray(), estimator.labels_)\n",
    "        except:\n",
    "            score = 1000\n",
    "        print(\"params:\", params_dict, \" score: \", score)\n",
    "        return {'loss': score, 'status': STATUS_OK}\n"
   ]
  },
  {
   "cell_type": "code",
   "execution_count": 0,
   "metadata": {
    "colab": {},
    "colab_type": "code",
    "id": "yrx7BlB1VYhg"
   },
   "outputs": [],
   "source": [
    "train_matrix = load_npz(DATA_DIR+\"train_matrix.npz\")\n",
    "test_matrix = load_npz(DATA_DIR+\"test_matrix.npz\")\n",
    "user_artists_df = pd.read_csv(DATA_DIR+\"users_artists.csv\", usecols=[\"user_id\", \"artists\"]).drop_duplicates()\n",
    "\n",
    "artists_id = user_artists_df[\"artists\"].unique()\n",
    "artists_id.sort()\n",
    "train, test = train_test_split(artists_id, test_size=0.1)\n",
    "del artists_id\n",
    "\n",
    "partial_user_artists_df = user_artists_df.loc[user_artists_df[\"artists\"].isin(train)]\n",
    "del train\n",
    "partial_artists = partial_user_artists_df.groupby(\"artists\").count().reset_index()\n",
    "del partial_user_artists_df\n",
    "partial_artists = partial_artists.sort_values(by=\"user_id\", ascending = False)\n",
    "partial_artists_rows = partial_artists.loc[:,\"artists\"].values\n",
    "del partial_artists"
   ]
  },
  {
   "cell_type": "code",
   "execution_count": 5,
   "metadata": {
    "colab": {
     "base_uri": "https://localhost:8080/",
     "height": 34
    },
    "colab_type": "code",
    "executionInfo": {
     "elapsed": 71756,
     "status": "ok",
     "timestamp": 1592205279100,
     "user": {
      "displayName": "Света Сорокина",
      "photoUrl": "https://lh3.googleusercontent.com/a-/AOh14GhP5b7WHhwRcbIn8yB21S2mZi9tlMCD4aFLmFcr=s64",
      "userId": "00408643672459262753"
     },
     "user_tz": -180
    },
    "id": "2dh0dilNsHdq",
    "outputId": "295b661c-526a-4346-be87-f598f9729a4f"
   },
   "outputs": [
    {
     "name": "stdout",
     "output_type": "stream",
     "text": [
      "(460500, 1000)\n"
     ]
    }
   ],
   "source": [
    "print(train_matrix.shape)"
   ]
  },
  {
   "cell_type": "markdown",
   "metadata": {},
   "source": [
    "К сожалению, affinity propagation не работает с большими объемами данных.\n",
    "В документации sklearn указано, что входное множество может быть sparse-матрицей, что не соответствует действительности.\n",
    "Поэтому пришлось барть лишь часть данных, так как обучения по батчам алгоритм также не поддерживает."
   ]
  },
  {
   "cell_type": "code",
   "execution_count": 0,
   "metadata": {
    "colab": {},
    "colab_type": "code",
    "id": "WKuAqVbRqaO9"
   },
   "outputs": [],
   "source": [
    "# Из матрицы убираются нулевые строки, для обучения берется половина непустых строк:\n",
    "non_zero_rows_idxs = np.unique(train_matrix.nonzero()[0])\n",
    "train_idxs = np.random.choice(non_zero_rows_idxs, size=int(round(len(non_zero_rows_idxs)/30))) # больше не помещается в памяти\n",
    "train_matrix = train_matrix[train_idxs, :]"
   ]
  },
  {
   "cell_type": "code",
   "execution_count": 7,
   "metadata": {
    "colab": {
     "base_uri": "https://localhost:8080/",
     "height": 34
    },
    "colab_type": "code",
    "executionInfo": {
     "elapsed": 75176,
     "status": "ok",
     "timestamp": 1592205282588,
     "user": {
      "displayName": "Света Сорокина",
      "photoUrl": "https://lh3.googleusercontent.com/a-/AOh14GhP5b7WHhwRcbIn8yB21S2mZi9tlMCD4aFLmFcr=s64",
      "userId": "00408643672459262753"
     },
     "user_tz": -180
    },
    "id": "zvqbDehYsKNq",
    "outputId": "a775babd-d951-479f-a0a3-7f425fe25c42"
   },
   "outputs": [
    {
     "name": "stdout",
     "output_type": "stream",
     "text": [
      "(13092, 1000)\n"
     ]
    }
   ],
   "source": [
    "print(train_matrix.shape)"
   ]
  },
  {
   "cell_type": "markdown",
   "metadata": {},
   "source": [
    "В результате, чтобы не было переполнения памяти, алгоритм включает лишь 1/30 часть данных, что является крайне малым."
   ]
  },
  {
   "cell_type": "markdown",
   "metadata": {
    "colab_type": "text",
    "id": "pKnYgXJhN4d4"
   },
   "source": [
    "Affinity Propagation:"
   ]
  },
  {
   "cell_type": "markdown",
   "metadata": {
    "colab_type": "text",
    "id": "HHMcra3IVl1l"
   },
   "source": [
    "Оптимизация гиперпараметров алгоритма:"
   ]
  },
  {
   "cell_type": "code",
   "execution_count": 8,
   "metadata": {
    "colab": {
     "base_uri": "https://localhost:8080/",
     "height": 1000
    },
    "colab_type": "code",
    "executionInfo": {
     "elapsed": 3586982,
     "status": "ok",
     "timestamp": 1592216490877,
     "user": {
      "displayName": "Света Сорокина",
      "photoUrl": "https://lh3.googleusercontent.com/a-/AOh14GhP5b7WHhwRcbIn8yB21S2mZi9tlMCD4aFLmFcr=s64",
      "userId": "00408643672459262753"
     },
     "user_tz": -180
    },
    "id": "Ffg1zdf-J80a",
    "outputId": "82bb2b15-878a-41ec-cb3f-826a47e89b72"
   },
   "outputs": [
    {
     "name": "stdout",
     "output_type": "stream",
     "text": [
      "params:\n",
      "{'damping': 0.9366107668034442, 'preference': 1}\n",
      " score: \n",
      "1000\n",
      "params:\n",
      "{'damping': 0.6328747851262722, 'preference': -5}\n",
      " score: \n",
      "1000\n",
      "  8%|▊         | 2/25 [12:40<1:38:05, 255.91s/it, best loss: 1000.0]"
     ]
    },
    {
     "name": "stderr",
     "output_type": "stream",
     "text": [
      "/usr/local/lib/python3.6/dist-packages/sklearn/cluster/_affinity_propagation.py:226: ConvergenceWarning: Affinity propagation did not converge, this model will not have any cluster centers.\n",
      "  \"will not have any cluster centers.\", ConvergenceWarning)\n",
      "\n"
     ]
    },
    {
     "name": "stdout",
     "output_type": "stream",
     "text": [
      "params:\n",
      "{'damping': 0.9761888489444221, 'preference': -14}\n",
      " score: \n",
      "0.7588292789850105\n",
      "params:\n",
      "{'damping': 0.7225230889068375, 'preference': -19}\n",
      " score: \n",
      "1000\n",
      " 16%|█▌        | 4/25 [25:44<2:03:43, 353.48s/it, best loss: 0.7588292789850105]"
     ]
    },
    {
     "name": "stderr",
     "output_type": "stream",
     "text": [
      "/usr/local/lib/python3.6/dist-packages/sklearn/cluster/_affinity_propagation.py:226: ConvergenceWarning: Affinity propagation did not converge, this model will not have any cluster centers.\n",
      "  \"will not have any cluster centers.\", ConvergenceWarning)\n",
      "\n"
     ]
    },
    {
     "name": "stdout",
     "output_type": "stream",
     "text": [
      "params:\n",
      "{'damping': 0.8988369478063556, 'preference': -10}\n",
      " score: \n",
      "1000\n",
      " 20%|██        | 5/25 [37:14<2:31:30, 454.55s/it, best loss: 0.7588292789850105]"
     ]
    },
    {
     "name": "stderr",
     "output_type": "stream",
     "text": [
      "/usr/local/lib/python3.6/dist-packages/sklearn/cluster/_affinity_propagation.py:226: ConvergenceWarning: Affinity propagation did not converge, this model will not have any cluster centers.\n",
      "  \"will not have any cluster centers.\", ConvergenceWarning)\n",
      "\n"
     ]
    },
    {
     "name": "stdout",
     "output_type": "stream",
     "text": [
      "params:\n",
      "{'damping': 0.8760581408027664, 'preference': -16}\n",
      " score: \n",
      "1000\n",
      " 24%|██▍       | 6/25 [48:52<2:47:04, 527.58s/it, best loss: 0.7588292789850105]"
     ]
    },
    {
     "name": "stderr",
     "output_type": "stream",
     "text": [
      "/usr/local/lib/python3.6/dist-packages/sklearn/cluster/_affinity_propagation.py:226: ConvergenceWarning: Affinity propagation did not converge, this model will not have any cluster centers.\n",
      "  \"will not have any cluster centers.\", ConvergenceWarning)\n",
      "\n"
     ]
    },
    {
     "name": "stdout",
     "output_type": "stream",
     "text": [
      "params:\n",
      "{'damping': 0.5685548489687648, 'preference': 3}\n",
      " score: \n",
      "1000\n",
      "params:\n",
      "{'damping': 0.6824622100520175, 'preference': -4}\n",
      " score: \n",
      "1000\n",
      " 32%|███▏      | 8/25 [1:01:30<2:15:58, 479.91s/it, best loss: 0.7588292789850105]"
     ]
    },
    {
     "name": "stderr",
     "output_type": "stream",
     "text": [
      "/usr/local/lib/python3.6/dist-packages/sklearn/cluster/_affinity_propagation.py:226: ConvergenceWarning: Affinity propagation did not converge, this model will not have any cluster centers.\n",
      "  \"will not have any cluster centers.\", ConvergenceWarning)\n",
      "\n"
     ]
    },
    {
     "name": "stdout",
     "output_type": "stream",
     "text": [
      "params:\n",
      "{'damping': 0.8262744511109883, 'preference': -9}\n",
      " score: \n",
      "1000\n",
      " 36%|███▌      | 9/25 [1:13:05<2:25:08, 544.26s/it, best loss: 0.7588292789850105]"
     ]
    },
    {
     "name": "stderr",
     "output_type": "stream",
     "text": [
      "/usr/local/lib/python3.6/dist-packages/sklearn/cluster/_affinity_propagation.py:226: ConvergenceWarning: Affinity propagation did not converge, this model will not have any cluster centers.\n",
      "  \"will not have any cluster centers.\", ConvergenceWarning)\n",
      "\n"
     ]
    },
    {
     "name": "stdout",
     "output_type": "stream",
     "text": [
      "params:\n",
      "{'damping': 0.9703284476567895, 'preference': 4}\n",
      " score: \n",
      "1000\n",
      "params:\n",
      "{'damping': 0.6925208888710979, 'preference': -21}\n",
      " score: \n",
      "1000\n",
      " 44%|████▍     | 11/25 [1:25:59<1:54:59, 492.83s/it, best loss: 0.7588292789850105]"
     ]
    },
    {
     "name": "stderr",
     "output_type": "stream",
     "text": [
      "/usr/local/lib/python3.6/dist-packages/sklearn/cluster/_affinity_propagation.py:226: ConvergenceWarning: Affinity propagation did not converge, this model will not have any cluster centers.\n",
      "  \"will not have any cluster centers.\", ConvergenceWarning)\n",
      "\n"
     ]
    },
    {
     "name": "stdout",
     "output_type": "stream",
     "text": [
      "params:\n",
      "{'damping': 0.7569515693586828, 'preference': -4}\n",
      " score: \n",
      "1000\n",
      " 48%|████▊     | 12/25 [1:37:29<1:59:38, 552.21s/it, best loss: 0.7588292789850105]"
     ]
    },
    {
     "name": "stderr",
     "output_type": "stream",
     "text": [
      "/usr/local/lib/python3.6/dist-packages/sklearn/cluster/_affinity_propagation.py:226: ConvergenceWarning: Affinity propagation did not converge, this model will not have any cluster centers.\n",
      "  \"will not have any cluster centers.\", ConvergenceWarning)\n",
      "\n",
      "/usr/local/lib/python3.6/dist-packages/sklearn/cluster/_affinity_propagation.py:226: ConvergenceWarning: Affinity propagation did not converge, this model will not have any cluster centers.\n",
      "  \"will not have any cluster centers.\", ConvergenceWarning)\n",
      "\n"
     ]
    },
    {
     "name": "stdout",
     "output_type": "stream",
     "text": [
      "params:\n",
      "{'damping': 0.7993447078443026, 'preference': -4}\n",
      " score: \n",
      "1000\n",
      "params:\n",
      "{'damping': 0.8634853807319638, 'preference': -17}\n",
      " score: \n",
      "1000\n",
      " 56%|█████▌    | 14/25 [2:00:40<1:54:40, 625.48s/it, best loss: 0.7588292789850105]"
     ]
    },
    {
     "name": "stderr",
     "output_type": "stream",
     "text": [
      "/usr/local/lib/python3.6/dist-packages/sklearn/cluster/_affinity_propagation.py:226: ConvergenceWarning: Affinity propagation did not converge, this model will not have any cluster centers.\n",
      "  \"will not have any cluster centers.\", ConvergenceWarning)\n",
      "\n"
     ]
    },
    {
     "name": "stdout",
     "output_type": "stream",
     "text": [
      "params:\n",
      "{'damping': 0.6847452378341059, 'preference': -5}\n",
      " score: \n",
      "1000\n",
      " 60%|██████    | 15/25 [2:12:16<1:47:46, 646.70s/it, best loss: 0.7588292789850105]"
     ]
    },
    {
     "name": "stderr",
     "output_type": "stream",
     "text": [
      "/usr/local/lib/python3.6/dist-packages/sklearn/cluster/_affinity_propagation.py:226: ConvergenceWarning: Affinity propagation did not converge, this model will not have any cluster centers.\n",
      "  \"will not have any cluster centers.\", ConvergenceWarning)\n",
      "\n"
     ]
    },
    {
     "name": "stdout",
     "output_type": "stream",
     "text": [
      "params:\n",
      "{'damping': 0.8220690313950985, 'preference': -6}\n",
      " score: \n",
      "1000\n",
      " 64%|██████▍   | 16/25 [2:23:52<1:39:12, 661.40s/it, best loss: 0.7588292789850105]"
     ]
    },
    {
     "name": "stderr",
     "output_type": "stream",
     "text": [
      "/usr/local/lib/python3.6/dist-packages/sklearn/cluster/_affinity_propagation.py:226: ConvergenceWarning: Affinity propagation did not converge, this model will not have any cluster centers.\n",
      "  \"will not have any cluster centers.\", ConvergenceWarning)\n",
      "\n"
     ]
    },
    {
     "name": "stdout",
     "output_type": "stream",
     "text": [
      "params:\n",
      "{'damping': 0.7231801716801878, 'preference': -8}\n",
      " score: \n",
      "1000\n",
      " 68%|██████▊   | 17/25 [2:35:28<1:29:35, 671.91s/it, best loss: 0.7588292789850105]"
     ]
    },
    {
     "name": "stderr",
     "output_type": "stream",
     "text": [
      "/usr/local/lib/python3.6/dist-packages/sklearn/cluster/_affinity_propagation.py:226: ConvergenceWarning: Affinity propagation did not converge, this model will not have any cluster centers.\n",
      "  \"will not have any cluster centers.\", ConvergenceWarning)\n",
      "\n"
     ]
    },
    {
     "name": "stdout",
     "output_type": "stream",
     "text": [
      "params:\n",
      "{'damping': 0.9705155046817122, 'preference': -23}\n",
      " score: \n",
      "0.7479949326662326\n",
      "params:\n",
      "{'damping': 0.7961866127987102, 'preference': -11}\n",
      " score: \n",
      "1000\n",
      " 76%|███████▌  | 19/25 [2:48:30<55:35, 555.99s/it, best loss: 0.7479949326662326]"
     ]
    },
    {
     "name": "stderr",
     "output_type": "stream",
     "text": [
      "/usr/local/lib/python3.6/dist-packages/sklearn/cluster/_affinity_propagation.py:226: ConvergenceWarning: Affinity propagation did not converge, this model will not have any cluster centers.\n",
      "  \"will not have any cluster centers.\", ConvergenceWarning)\n",
      "\n"
     ]
    },
    {
     "name": "stdout",
     "output_type": "stream",
     "text": [
      "params:\n",
      "{'damping': 0.7305259009642139, 'preference': 3}\n",
      " score: \n",
      "1000\n",
      "params:\n",
      "{'damping': 0.9968170633159221, 'preference': -23}\n",
      " score: \n",
      "0.7479949326662326\n",
      "params:\n",
      "{'damping': 0.9885666126709385, 'preference': -23}\n",
      " score: \n",
      "0.7479949326662326\n",
      "params:\n",
      "{'damping': 0.9109935346571675, 'preference': -23}\n",
      " score: \n",
      "1000\n",
      " 92%|█████████▏| 23/25 [3:04:12<12:42, 381.44s/it, best loss: 0.7479949326662326]"
     ]
    },
    {
     "name": "stderr",
     "output_type": "stream",
     "text": [
      "/usr/local/lib/python3.6/dist-packages/sklearn/cluster/_affinity_propagation.py:226: ConvergenceWarning: Affinity propagation did not converge, this model will not have any cluster centers.\n",
      "  \"will not have any cluster centers.\", ConvergenceWarning)\n",
      "\n"
     ]
    },
    {
     "name": "stdout",
     "output_type": "stream",
     "text": [
      "params:\n",
      "{'damping': 0.99921580494066, 'preference': -22}\n",
      " score: \n",
      "0.7512632066639382\n",
      "params:\n",
      "{'damping': 0.9970098754421272, 'preference': 2}\n",
      " score: \n",
      "1000\n",
      "100%|██████████| 25/25 [3:06:48<00:00, 448.32s/it, best loss: 0.7479949326662326]\n"
     ]
    }
   ],
   "source": [
    "optimizer = HPOpt(train_matrix, AffinityPropagation(copy=False))\n",
    "\n",
    "search_space_affinity = {\n",
    "    \"preference\": hp.choice(\"preference\", range(-25,5)), # self-similarity\n",
    "    \"damping\": hp.uniform(\"damping\", 0.5, 1.0)\n",
    "}\n",
    "\n",
    "trials=Trials()\n",
    "\n",
    "optimization_proc_affinity = optimizer.process(fn_name='bayes_opt_tune_Affinity', \n",
    "                                      space=search_space_affinity, \n",
    "                                      trials=trials, \n",
    "                                      algo=tpe.suggest, \n",
    "                                      max_evals=25)\n",
    "# 25 = 5^2, где 2 - количество параметров для оптимизации"
   ]
  },
  {
   "cell_type": "markdown",
   "metadata": {},
   "source": [
    "Судя по оптимизации, адекватная оценка качсевта достигается при 'damping': 0.9705155046817122 и 'preference': -23.\n",
    "Теперь надо определить количество итераций, которые необходимо произвести при обучении."
   ]
  },
  {
   "cell_type": "code",
   "execution_count": 14,
   "metadata": {
    "colab": {
     "base_uri": "https://localhost:8080/",
     "height": 546
    },
    "colab_type": "code",
    "executionInfo": {
     "elapsed": 421928,
     "status": "ok",
     "timestamp": 1592218166245,
     "user": {
      "displayName": "Света Сорокина",
      "photoUrl": "https://lh3.googleusercontent.com/a-/AOh14GhP5b7WHhwRcbIn8yB21S2mZi9tlMCD4aFLmFcr=s64",
      "userId": "00408643672459262753"
     },
     "user_tz": -180
    },
    "id": "RvJzf8fVSwNI",
    "outputId": "24b2cacf-c3e2-43fc-b11c-d3b70657ff1a"
   },
   "outputs": [
    {
     "name": "stdout",
     "output_type": "stream",
     "text": [
      "max_iter: 100  score:  0.7479949326662326\n",
      "max_iter: 300  score:  0.7479949326662326\n",
      "max_iter: 500  score:  0.7479949326662326\n",
      "max_iter: 700  score:  0.7479949326662326\n",
      "max_iter: 900  score:  0.7479949326662326\n"
     ]
    },
    {
     "data": {
      "image/png": "[encoded data removed]",
      "text/plain": [
       "<Figure size 720x504 with 1 Axes>"
      ]
     },
     "metadata": {
      "needs_background": "light",
      "tags": []
     },
     "output_type": "display_data"
    }
   ],
   "source": [
    "scores = np.array([])\n",
    "x = [100,300,500,700,900]\n",
    "for max_iter in x:\n",
    "  optimized_affinity = AffinityPropagation(max_iter=max_iter, copy=False)\n",
    "  optimized_affinity = optimized_affinity.set_params(**{'damping': 0.9705155046817122, 'preference': -23})\n",
    "  optimized_affinity = optimized_affinity.fit(train_matrix.toarray())\n",
    "  try: \n",
    "      score = davies_bouldin_score(train_matrix.toarray(), optimized_affinity.labels_)\n",
    "  except:\n",
    "      score = 1000\n",
    "  scores = np.append(scores,score)\n",
    "  print(\"max_iter:\", max_iter, \" score: \", score)\n",
    "\n",
    "plt.figure(figsize=(10,7))\n",
    "plt.plot(x, scores)\n",
    "\n",
    "plt.title(\"Значение индекса Дэвиса-Болдина для Affinity Propagation с различным количеством итераций обучения\")\n",
    "plt.ylabel(\"Значение индекса Дэвиса-Болдина\")\n",
    "plt.xlabel(\"Количество итераций\")\n",
    "plt.show()"
   ]
  },
  {
   "cell_type": "markdown",
   "metadata": {},
   "source": [
    "Судя по значениям метрики при разном количестве итераций, можно сказать, что модель обучается не более чем за 100 итераций."
   ]
  },
  {
   "cell_type": "code",
   "execution_count": 0,
   "metadata": {
    "colab": {},
    "colab_type": "code",
    "id": "JiA0zSj78o3m"
   },
   "outputs": [],
   "source": [
    "#iter_num = x[np.argmin(scores)]\n",
    "optimized_affinity = AffinityPropagation(max_iter=100, copy=False)\n",
    "optimized_affinity = optimized_affinity.set_params(**{'damping': 0.9705155046817122, 'preference': -23})"
   ]
  },
  {
   "cell_type": "markdown",
   "metadata": {},
   "source": [
    "Теперь подсчет метрик качества оптимизации:"
   ]
  },
  {
   "cell_type": "code",
   "execution_count": 17,
   "metadata": {
    "colab": {
     "base_uri": "https://localhost:8080/",
     "height": 243
    },
    "colab_type": "code",
    "executionInfo": {
     "elapsed": 581897,
     "status": "ok",
     "timestamp": 1592221423248,
     "user": {
      "displayName": "Света Сорокина",
      "photoUrl": "https://lh3.googleusercontent.com/a-/AOh14GhP5b7WHhwRcbIn8yB21S2mZi9tlMCD4aFLmFcr=s64",
      "userId": "00408643672459262753"
     },
     "user_tz": -180
    },
    "id": "UHIbdhPlD2HW",
    "outputId": "83a41a20-38c8-4ecb-8433-666ef5e2c7df"
   },
   "outputs": [
    {
     "name": "stdout",
     "output_type": "stream",
     "text": [
      "Основные статистики кластеризации:\n",
      "Количество исполнителей:  13092\n",
      "Количество кластеров: 6543\n",
      "Наибольший размер кластера: 225\n",
      "Гистограмма распределения количества кластеров по их величине\n",
      "Деления: \n",
      " [   1    2    3    4    5   10   50  100  500 1000]\n",
      "Частоты: \n",
      " [5680  211  197  118  191  127    8   11    0]\n",
      "MAP@1:  0.003028704300760107\n",
      "MAP@5:  0.0006995329933368502\n",
      "MAP@10:  0.000408386579908944\n",
      "MAP@20:  0.0002628133731949907\n"
     ]
    }
   ],
   "source": [
    "metrics = recommendation.get_cluster_recommendations_and_calculate_metrics(\n",
    "    optimized_affinity, \n",
    "    user_artists_df, \n",
    "    train_matrix, \n",
    "    test_matrix, \n",
    "    partial_artists_rows[train_idxs], # идентификаторы исполнителей, которые присутствуют в тренировочной части\n",
    "    test\n",
    ")"
   ]
  },
  {
   "cell_type": "markdown",
   "metadata": {
    "colab": {},
    "colab_type": "code",
    "id": "oQrDpQy6qFmV"
   },
   "source": [
    "Судя по статистикам, алгоритм крайне плохо выделяет кластеры: больше трети исплнителей образовали индивидуальные кластеры, что очень сильно влияет на метрику качества.\n",
    "Метрики качества рекомендации крайне плохи по сравнению с baseline, что говорит о несостоятельности применяемого метода."
   ]
  },
  {
   "cell_type": "code",
   "execution_count": null,
   "metadata": {},
   "outputs": [],
   "source": []
  }
 ],
 "metadata": {
  "colab": {
   "authorship_tag": "ABX9TyOPj6fMrwYQEXnn8JF5p3vo",
   "collapsed_sections": [],
   "mount_file_id": "1X0TAmKoWlPvQ_iopHu-N2SWD_LxmXfes",
   "name": "affinity.ipynb",
   "provenance": []
  },
  "kernelspec": {
   "display_name": "Python 3",
   "language": "python",
   "name": "python3"
  },
  "language_info": {
   "codemirror_mode": {
    "name": "ipython",
    "version": 3
   },
   "file_extension": ".py",
   "mimetype": "text/x-python",
   "name": "python",
   "nbconvert_exporter": "python",
   "pygments_lexer": "ipython3",
   "version": "3.7.3"
  }
 },
 "nbformat": 4,
 "nbformat_minor": 1
}
