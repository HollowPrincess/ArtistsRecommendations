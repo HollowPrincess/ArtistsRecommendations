{
 "cells": [
  {
   "cell_type": "code",
   "execution_count": 0,
   "metadata": {
    "colab": {},
    "colab_type": "code",
    "id": "TDaAhAokq_ep"
   },
   "outputs": [],
   "source": [
    "#\"\"\"\n",
    "!pip install nptyping\n",
    "!pip install ml_metrics\n",
    "!pip install hyperopt\n",
    "#\"\"\""
   ]
  },
  {
   "cell_type": "markdown",
   "metadata": {
    "colab_type": "text",
    "id": "fWQCZnzqywbi"
   },
   "source": [
    "В этом файле происходит подготовка матриц сопряженности исполнителей для проведения кластеризации."
   ]
  },
  {
   "cell_type": "code",
   "execution_count": 0,
   "metadata": {
    "colab": {},
    "colab_type": "code",
    "id": "YcEX1H-Bi78P"
   },
   "outputs": [],
   "source": [
    "import pandas as pd\n",
    "import numpy as np\n",
    "from scipy.sparse import csr_matrix, vstack, save_npz, load_npz\n",
    "import sys\n",
    "from sklearn.preprocessing import LabelEncoder\n",
    "from sklearn.model_selection import train_test_split\n",
    "import ml_metrics \n",
    "from typing import Dict, Any\n",
    "from nptyping import NDArray\n",
    "from sklearn.cluster import AffinityPropagation, MiniBatchKMeans\n",
    "from sklearn.decomposition import TruncatedSVD\n",
    "from sklearn.metrics import davies_bouldin_score\n",
    "\n",
    "from hyperopt import fmin, tpe, STATUS_OK, STATUS_FAIL, Trials\n",
    "from hyperopt import hp\n",
    "from matplotlib import pyplot as plt\n",
    "\n",
    "DATA_DIR = './drive/My Drive/Colab Notebooks/VK_internship/'\n",
    "sys.path.append(DATA_DIR)\n",
    "recommendation = __import__(\"recommendation\") "
   ]
  },
  {
   "cell_type": "markdown",
   "metadata": {
    "colab_type": "text",
    "id": "jVCL0iSzUb37"
   },
   "source": [
    "Разделение на тренировочную и тестовую часть:"
   ]
  },
  {
   "cell_type": "code",
   "execution_count": 0,
   "metadata": {
    "colab": {},
    "colab_type": "code",
    "id": "R-sLVzMri9g0"
   },
   "outputs": [],
   "source": [
    "user_artists_df = pd.read_csv(DATA_DIR+\"users_artists.csv\", usecols=[\"user_id\", \"artists\"]).drop_duplicates()\n",
    "artists_id = user_artists_df[\"artists\"].unique()\n",
    "artists_id.sort()\n",
    "train, test = train_test_split(artists_id, test_size=0.1)\n",
    "del artists_id"
   ]
  },
  {
   "cell_type": "markdown",
   "metadata": {
    "colab_type": "text",
    "id": "2MGCJ34mUf_M"
   },
   "source": [
    "Формирование матриц для обучения и тестирования:"
   ]
  },
  {
   "cell_type": "markdown",
   "metadata": {
    "colab_type": "text",
    "id": "2RGKSTMDU_yA"
   },
   "source": [
    "Создание подвыборки данных и идентификаторов исполнителей, для составления строк и столбцов:"
   ]
  },
  {
   "cell_type": "code",
   "execution_count": 0,
   "metadata": {
    "colab": {},
    "colab_type": "code",
    "id": "oCYbYIQMJvb-"
   },
   "outputs": [],
   "source": [
    "partial_user_artists_df = user_artists_df.loc[user_artists_df[\"artists\"].isin(train)]\n",
    "partial_artists = partial_user_artists_df.groupby(\"artists\").count().reset_index()\n",
    "partial_artists = partial_artists.sort_values(by=\"user_id\", ascending = False)\n",
    "partial_artists_rows = partial_artists.loc[:,\"artists\"].values\n",
    "partial_artists = partial_artists_rows[:1000] \n",
    "# столбцы матриц - топ-1000 популярных исполнителей из тренировочного множества\n",
    "# строки train матрицы - топ-2000 популярных исполнителей из тренировочного множества"
   ]
  },
  {
   "cell_type": "code",
   "execution_count": 5,
   "metadata": {
    "colab": {
     "base_uri": "https://localhost:8080/",
     "height": 34
    },
    "colab_type": "code",
    "executionInfo": {
     "elapsed": 1133,
     "status": "ok",
     "timestamp": 1592248840355,
     "user": {
      "displayName": "Света Сорокина",
      "photoUrl": "https://lh3.googleusercontent.com/a-/AOh14GhP5b7WHhwRcbIn8yB21S2mZi9tlMCD4aFLmFcr=s64",
      "userId": "00408643672459262753"
     },
     "user_tz": -180
    },
    "id": "F_LHwlY0bK9v",
    "outputId": "5081e227-7a1b-4f13-a610-d726c910e109"
   },
   "outputs": [
    {
     "data": {
      "text/plain": [
       "(460591,)"
      ]
     },
     "execution_count": 5,
     "metadata": {
      "tags": []
     },
     "output_type": "execute_result"
    }
   ],
   "source": [
    "partial_artists_rows.shape"
   ]
  },
  {
   "cell_type": "code",
   "execution_count": 0,
   "metadata": {
    "colab": {},
    "colab_type": "code",
    "id": "SVSuQ3iCKrfw"
   },
   "outputs": [],
   "source": [
    "partial_users = partial_user_artists_df.groupby(\"user_id\").count().reset_index()\n",
    "partial_users = partial_users.sort_values(by=\"artists\", ascending = False).iloc[:15000]\n",
    "partial_users = partial_users.loc[:,\"user_id\"].values\n",
    "# берется информация по 5 тысячам самых активных пользователей, слушающих исполнителей из тренировочного множества\n",
    "# данных очень много, чтобы обработать все не хватит памяти, \n",
    "# поэтому было принято решение брать информацию только по самым активным пользователям\n",
    "del partial_user_artists_df"
   ]
  },
  {
   "cell_type": "code",
   "execution_count": 0,
   "metadata": {
    "colab": {},
    "colab_type": "code",
    "id": "4oW0AKUvLXAc"
   },
   "outputs": [],
   "source": [
    "cutted_user_artists_df = user_artists_df.loc[user_artists_df[\"user_id\"].isin(partial_users)]\n",
    "# Из рассмотрения убираются избыточные пользователи\n",
    "del partial_users"
   ]
  },
  {
   "cell_type": "code",
   "execution_count": 0,
   "metadata": {
    "colab": {},
    "colab_type": "code",
    "id": "O2EkFnjELiXM"
   },
   "outputs": [],
   "source": [
    "partial_user_artists_df_for_cols = cutted_user_artists_df.loc[cutted_user_artists_df[\"artists\"].isin(partial_artists)]\n",
    "# В этом датафрейме находятся исполнители из столбцов матриц train и test\n",
    "# partial_user_artists_df_for_rows = cutted_user_artists_df.loc[cutted_user_artists_df[\"artists\"].isin(partial_artists_rows)]"
   ]
  },
  {
   "cell_type": "markdown",
   "metadata": {
    "colab_type": "text",
    "id": "Wur2OVP8VMJt"
   },
   "source": [
    "Формирование структуры матрицы test (координат и значений):"
   ]
  },
  {
   "cell_type": "code",
   "execution_count": 0,
   "metadata": {
    "colab": {},
    "colab_type": "code",
    "id": "ZV_--So_L6sp"
   },
   "outputs": [],
   "source": [
    "cutted_test_user_artists_df = cutted_user_artists_df.loc[cutted_user_artists_df[\"artists\"].isin(test)] # строки матрицы test\n",
    "test_df = cutted_test_user_artists_df.merge(partial_user_artists_df_for_cols, on = \"user_id\") \n",
    "test_df = test_df.groupby(by = [\"artists_x\",\"artists_y\"]).count().reset_index() # структура матрицы test\n",
    "del cutted_test_user_artists_df"
   ]
  },
  {
   "cell_type": "markdown",
   "metadata": {
    "colab_type": "text",
    "id": "ovV6sHzmVQ2L"
   },
   "source": [
    "Формирование sparse матрицы test:"
   ]
  },
  {
   "cell_type": "code",
   "execution_count": 0,
   "metadata": {
    "colab": {},
    "colab_type": "code",
    "id": "vCkOw3SkiBaa"
   },
   "outputs": [],
   "source": [
    "le_test = LabelEncoder()\n",
    "le_test = le_test.fit(test) #энкодер строк матрицы test\n",
    "\n",
    "le_train_cols = LabelEncoder()\n",
    "le_train_cols = le_train_cols.fit(partial_artists) # энкодер для столбцов матриц train и test\n",
    "\n",
    "test_df.loc[:, \"artists_x\"] = le_test.transform(test_df.loc[:,\"artists_x\"])\n",
    "test_df.loc[:, \"artists_y\"] = le_train_cols.transform(test_df.loc[:,\"artists_y\"])\n",
    "test_matrix = csr_matrix((test_df[\"user_id\"], \n",
    "                       (test_df[\"artists_x\"], test_df[\"artists_y\"])),\n",
    "                       shape=(len(test), len(partial_artists)))\n",
    "del test_df\n",
    "save_npz(DATA_DIR+\"test_matrix.npz\", test_matrix)"
   ]
  },
  {
   "cell_type": "markdown",
   "metadata": {
    "colab_type": "text",
    "id": "-0CWoOnshrQu"
   },
   "source": [
    "Формирование структуры и sparse матрицы train:"
   ]
  },
  {
   "cell_type": "code",
   "execution_count": 0,
   "metadata": {
    "colab": {},
    "colab_type": "code",
    "id": "nZtuyYHngDCw"
   },
   "outputs": [],
   "source": [
    "batch_size = 500\n",
    "batches_amount = int(len(partial_artists_rows)/batch_size)\n",
    "\n",
    "train_matrix = csr_matrix((batch_size, len(partial_artists)))\n",
    "\n",
    "for batch_num in range(batches_amount):\n",
    "    partial_user_artists_df_for_rows = cutted_user_artists_df.loc[\n",
    "        cutted_user_artists_df[\"artists\"].isin(partial_artists_rows[batch_num*batch_size:(batch_num+1)*batch_size])\n",
    "    ]\n",
    "    train_df = partial_user_artists_df_for_rows.merge(partial_user_artists_df_for_cols, on=\"user_id\") # самая дорогая по памяти операция\n",
    "    del partial_user_artists_df_for_rows\n",
    "\n",
    "    train_df = train_df.groupby(by = [\"artists_x\",\"artists_y\"]).count().reset_index() # структура матрицы train\n",
    "\n",
    "    le_train_rows = LabelEncoder()\n",
    "    le_train_rows = le_train_rows.fit(train_df.loc[:,\"artists_x\"])\n",
    "\n",
    "    train_df.loc[:, \"artists_x\"] = le_train_rows.transform(train_df.loc[:,\"artists_x\"])   \n",
    "    train_df.loc[:, \"artists_y\"] = le_train_cols.transform(train_df.loc[:,\"artists_y\"])\n",
    "\n",
    "    train_matrix_part = csr_matrix((train_df[\"user_id\"], \n",
    "                          (train_df[\"artists_x\"], train_df[\"artists_y\"])),\n",
    "                          shape=(batch_size, len(partial_artists)))\n",
    "    del train_df\n",
    "    if train_matrix.count_nonzero():\n",
    "        train_matrix = vstack([train_matrix, train_matrix_part]) # вертикальная конкатенация sparse матриц\n",
    "    else:\n",
    "        train_matrix = train_matrix_part\n",
    "    del train_matrix_part\n",
    "\n",
    "del cutted_user_artists_df, partial_user_artists_df_for_cols\n",
    "save_npz(DATA_DIR+\"train_matrix.npz\", train_matrix)"
   ]
  }
 ],
 "metadata": {
  "colab": {
   "authorship_tag": "ABX9TyN2k/fHUOwVUAtXRZt2AbMV",
   "collapsed_sections": [],
   "mount_file_id": "1c9HpgEpResEmcdf_kWl95tC9P2BV1zIj",
   "name": "prepare_matrices_for_clustering.ipynb",
   "provenance": []
  },
  "kernelspec": {
   "display_name": "Python 3",
   "language": "python",
   "name": "python3"
  },
  "language_info": {
   "codemirror_mode": {
    "name": "ipython",
    "version": 3
   },
   "file_extension": ".py",
   "mimetype": "text/x-python",
   "name": "python",
   "nbconvert_exporter": "python",
   "pygments_lexer": "ipython3",
   "version": "3.7.3"
  }
 },
 "nbformat": 4,
 "nbformat_minor": 1
}
