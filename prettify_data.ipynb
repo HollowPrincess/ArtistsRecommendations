{
 "cells": [
  {
   "cell_type": "markdown",
   "metadata": {},
   "source": [
    "Здесь небольшое причесывание уже извлеченных необходимых данных."
   ]
  },
  {
   "cell_type": "code",
   "execution_count": 0,
   "metadata": {
    "colab": {},
    "colab_type": "code",
    "id": "XlBb34Jpl9Q4"
   },
   "outputs": [],
   "source": [
    "import pandas as pd\n",
    "import numpy as np\n",
    "from sklearn import preprocessing\n",
    "\n",
    "DATA_DIR = './drive/My Drive/Colab Notebooks/VK_internship/'"
   ]
  },
  {
   "cell_type": "code",
   "execution_count": 0,
   "metadata": {
    "colab": {},
    "colab_type": "code",
    "id": "epTmoBO-mC0C"
   },
   "outputs": [],
   "source": [
    "user_artists_df = pd.read_csv(DATA_DIR+\"users_artists.csv\", \n",
    "                              usecols = [\"user_id\",\t\"artists\", \"playtime\"])\n",
    "artists_id = user_artists_df[\"artists\"].unique()"
   ]
  },
  {
   "cell_type": "code",
   "execution_count": 0,
   "metadata": {
    "colab": {
     "base_uri": "https://localhost:8080/",
     "height": 52
    },
    "colab_type": "code",
    "executionInfo": {
     "elapsed": 3448,
     "status": "ok",
     "timestamp": 1591794568909,
     "user": {
      "displayName": "Света Сорокина",
      "photoUrl": "https://lh3.googleusercontent.com/a-/AOh14GhP5b7WHhwRcbIn8yB21S2mZi9tlMCD4aFLmFcr=s64",
      "userId": "00408643672459262753"
     },
     "user_tz": -180
    },
    "id": "bj9LM63omJda",
    "outputId": "e74de8a7-ee36-4de5-af66-0f28541fec56"
   },
   "outputs": [
    {
     "name": "stdout",
     "output_type": "stream",
     "text": [
      "511768\n",
      "595140\n"
     ]
    }
   ],
   "source": [
    "print(len(np.unique(artists_id)))\n",
    "print(np.max(artists_id))"
   ]
  },
  {
   "cell_type": "markdown",
   "metadata": {
    "colab_type": "text",
    "id": "jzY6mukpmQ3x"
   },
   "source": [
    "Судя по всему в итоговом наборе данных есть информация о прослушивании 511768 исполнителей, при том что максимальный идентификатор равен 595140, это означает, что в данных нет информации о 84 тысячах исполнителей, но при этом есть идентификаторы.\n",
    "Для представления в виде матрицы смежности это сулит лишние 84 тысячи \n",
    "пустых столбцов и строк, поэтому лучше будет перенумеровать идентификаторы для дальнейшей работы."
   ]
  },
  {
   "cell_type": "code",
   "execution_count": 0,
   "metadata": {
    "colab": {
     "base_uri": "https://localhost:8080/",
     "height": 34
    },
    "colab_type": "code",
    "executionInfo": {
     "elapsed": 3424,
     "status": "ok",
     "timestamp": 1591794568914,
     "user": {
      "displayName": "Света Сорокина",
      "photoUrl": "https://lh3.googleusercontent.com/a-/AOh14GhP5b7WHhwRcbIn8yB21S2mZi9tlMCD4aFLmFcr=s64",
      "userId": "00408643672459262753"
     },
     "user_tz": -180
    },
    "id": "EWiVlgRMmuqm",
    "outputId": "11971014-f632-46ad-902d-249541a02321"
   },
   "outputs": [
    {
     "data": {
      "text/plain": [
       "LabelEncoder()"
      ]
     },
     "execution_count": 4,
     "metadata": {
      "tags": []
     },
     "output_type": "execute_result"
    }
   ],
   "source": [
    "artists_id.sort()\n",
    "le = preprocessing.LabelEncoder()\n",
    "le.fit(artists_id)"
   ]
  },
  {
   "cell_type": "code",
   "execution_count": 0,
   "metadata": {
    "colab": {},
    "colab_type": "code",
    "id": "4UJORKLVnUKd"
   },
   "outputs": [],
   "source": [
    "user_artists_df.loc[:,\"artists\"] = le.transform(user_artists_df.loc[:,\"artists\"])\n",
    "user_artists_df.to_csv(DATA_DIR+\"users_artists.csv\",index=False)\n",
    "del user_artists_df"
   ]
  },
  {
   "cell_type": "code",
   "execution_count": 0,
   "metadata": {
    "colab": {},
    "colab_type": "code",
    "id": "qIyvRIkDouT5"
   },
   "outputs": [],
   "source": [
    "artist_rankings = pd.read_csv(DATA_DIR+\"artists_ranks.csv\")\n",
    "artist_rankings = artist_rankings.loc[artist_rankings[\"artists\"].isin(artists_id)]\n",
    "artist_rankings.loc[:,\"artists\"] = le.transform(artist_rankings.loc[:,\"artists\"])\n",
    "artist_rankings.to_csv(DATA_DIR+\"artists_ranks.csv\",index=False)\n",
    "del artist_rankings"
   ]
  },
  {
   "cell_type": "code",
   "execution_count": 0,
   "metadata": {
    "colab": {
     "base_uri": "https://localhost:8080/",
     "height": 52
    },
    "colab_type": "code",
    "executionInfo": {
     "elapsed": 6338,
     "status": "ok",
     "timestamp": 1591794731587,
     "user": {
      "displayName": "Света Сорокина",
      "photoUrl": "https://lh3.googleusercontent.com/a-/AOh14GhP5b7WHhwRcbIn8yB21S2mZi9tlMCD4aFLmFcr=s64",
      "userId": "00408643672459262753"
     },
     "user_tz": -180
    },
    "id": "cX9Fgjm4syvt",
    "outputId": "f20bb738-f05e-4e99-b169-afb34c59fbea"
   },
   "outputs": [
    {
     "name": "stdout",
     "output_type": "stream",
     "text": [
      "Количество уникальных исполниетелей в плейлистах:  64098\n",
      "Количество исполнителей из истории прослушиваний, которые входят хотя бы в 1 плейлист:  63639\n"
     ]
    }
   ],
   "source": [
    "playlists_df = pd.read_csv(DATA_DIR+\"artists_in_playlists.csv\", \n",
    "                           usecols = [\"playlist_id\",\t\"playcount\", \"artists\"])\n",
    "print(\"Количество уникальных исполниетелей в плейлистах: \", \n",
    "      len(np.unique(playlists_df[\"artists\"])))\n",
    "print(\"Количество исполнителей из истории прослушиваний, которые входят хотя бы в 1 плейлист: \",\n",
    "      len(set(playlists_df[\"artists\"]).intersection(set(artists_id))))\n",
    "playlists_df = playlists_df.loc[playlists_df[\"artists\"].isin(artists_id)]\n",
    "playlists_df.loc[:,\"artists\"] = le.transform(playlists_df.loc[:,\"artists\"])\n",
    "playlists_df.to_csv(DATA_DIR+\"artists_in_playlists.csv\",index=False)\n",
    "del playlists_df"
   ]
  },
  {
   "cell_type": "code",
   "execution_count": 0,
   "metadata": {
    "colab": {
     "base_uri": "https://localhost:8080/",
     "height": 52
    },
    "colab_type": "code",
    "executionInfo": {
     "elapsed": 3038,
     "status": "ok",
     "timestamp": 1591794738514,
     "user": {
      "displayName": "Света Сорокина",
      "photoUrl": "https://lh3.googleusercontent.com/a-/AOh14GhP5b7WHhwRcbIn8yB21S2mZi9tlMCD4aFLmFcr=s64",
      "userId": "00408643672459262753"
     },
     "user_tz": -180
    },
    "id": "qf5uo3OCuP2W",
    "outputId": "247eb88e-bcb7-49b8-eb8f-12dffdd65534"
   },
   "outputs": [
    {
     "name": "stdout",
     "output_type": "stream",
     "text": [
      "Количество уникальных исполниетелей, которым поставили лайк:  109495\n",
      "Количество исполнителей из истории прослушиваний, которым поставили хотя бы 1 лайк:  107563\n"
     ]
    }
   ],
   "source": [
    "love_df = pd.read_csv(DATA_DIR+\"artists_user_likes.csv\")\n",
    "print(\"Количество уникальных исполниетелей, которым поставили лайк: \", \n",
    "      len(np.unique(love_df[\"artists\"])))\n",
    "print(\"Количество исполнителей из истории прослушиваний, которым поставили хотя бы 1 лайк: \",\n",
    "      len(set(love_df[\"artists\"]).intersection(set(artists_id))))\n",
    "love_df = love_df.loc[love_df[\"artists\"].isin(artists_id)]\n",
    "love_df.loc[:,\"artists\"] = le.transform(love_df.loc[:,\"artists\"])\n",
    "love_df.to_csv(DATA_DIR+\"artists_user_likes.csv\",index=False)\n",
    "del love_df"
   ]
  },
  {
   "cell_type": "code",
   "execution_count": 0,
   "metadata": {
    "colab": {},
    "colab_type": "code",
    "id": "7gEnNVfzNKMo"
   },
   "outputs": [],
   "source": [
    "del artists_id"
   ]
  },
  {
   "cell_type": "code",
   "execution_count": 0,
   "metadata": {
    "colab": {},
    "colab_type": "code",
    "id": "ZhvrLBtAXDFa"
   },
   "outputs": [],
   "source": []
  }
 ],
 "metadata": {
  "colab": {
   "authorship_tag": "ABX9TyMwQUho9gtFYIbJ799UXIpO",
   "collapsed_sections": [],
   "mount_file_id": "1b-Mw-lgjtgsJh62lZh9J2qmLleJLool4",
   "name": "prettify_data.ipynb",
   "provenance": []
  },
  "kernelspec": {
   "display_name": "Python 3",
   "language": "python",
   "name": "python3"
  },
  "language_info": {
   "codemirror_mode": {
    "name": "ipython",
    "version": 3
   },
   "file_extension": ".py",
   "mimetype": "text/x-python",
   "name": "python",
   "nbconvert_exporter": "python",
   "pygments_lexer": "ipython3",
   "version": "3.7.3"
  }
 },
 "nbformat": 4,
 "nbformat_minor": 1
}
