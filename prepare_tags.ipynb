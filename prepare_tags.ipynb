{
 "cells": [
  {
   "cell_type": "markdown",
   "metadata": {},
   "source": [
    "При первоначальной обработке тегов была допущена ошибка, поэтому позже пришлось переписать обработку и вынести в отдельный файл."
   ]
  },
  {
   "cell_type": "code",
   "execution_count": 0,
   "metadata": {
    "colab": {},
    "colab_type": "code",
    "id": "aPfMy9ToBbXr"
   },
   "outputs": [],
   "source": [
    "import pandas as pd\n",
    "import numpy as np\n",
    "from sklearn.preprocessing import LabelEncoder\n",
    "\n",
    "DATA_DIR = './drive/My Drive/Colab Notebooks/VK_internship/'"
   ]
  },
  {
   "cell_type": "code",
   "execution_count": 2,
   "metadata": {
    "colab": {
     "base_uri": "https://localhost:8080/",
     "height": 52
    },
    "colab_type": "code",
    "executionInfo": {
     "elapsed": 6980,
     "status": "ok",
     "timestamp": 1592230729202,
     "user": {
      "displayName": "Света Сорокина",
      "photoUrl": "https://lh3.googleusercontent.com/a-/AOh14GhP5b7WHhwRcbIn8yB21S2mZi9tlMCD4aFLmFcr=s64",
      "userId": "00408643672459262753"
     },
     "user_tz": -180
    },
    "id": "cH6rXhy-BHjC",
    "outputId": "bd9507c4-4590-4f01-9493-537800d295d4"
   },
   "outputs": [
    {
     "name": "stdout",
     "output_type": "stream",
     "text": [
      "511768\n",
      "595140\n"
     ]
    }
   ],
   "source": [
    "user_artists_df = pd.read_csv(DATA_DIR+\"users_artists_old.csv\", \n",
    "                              usecols = [\"user_id\",\t\"artists\", \"playtime\"])\n",
    "artists_id = user_artists_df[\"artists\"].unique()\n",
    "print(len(np.unique(artists_id)))\n",
    "print(np.max(artists_id))\n",
    "\n",
    "artists_id.sort()\n",
    "le = LabelEncoder()\n",
    "le.fit(artists_id)\n",
    "del user_artists_df"
   ]
  },
  {
   "cell_type": "code",
   "execution_count": 0,
   "metadata": {
    "colab": {},
    "colab_type": "code",
    "id": "On_TXtjxCDXO"
   },
   "outputs": [],
   "source": [
    "tags_df = pd.read_csv(DATA_DIR+\"tmp_tracks_and_artists.csv\", usecols = [\"artists\",\"tags\"])\n",
    "tags_df = tags_df.loc[tags_df[\"tags\"].str.contains(r'\\d')] # убираем строки без тегов\n",
    "tags_df.loc[:,\"tags\"] = tags_df.loc[:,\"tags\"].apply(lambda x: eval(x)) # перевод из строки в объект\n",
    "tags_df = tags_df.explode(\"tags\")\n",
    "tags_df.loc[:,\"tags\"] = tags_df.loc[:,\"tags\"].apply(lambda x: x[\"id\"])"
   ]
  },
  {
   "cell_type": "code",
   "execution_count": 0,
   "metadata": {
    "colab": {},
    "colab_type": "code",
    "id": "E6LMPCGAJgrM"
   },
   "outputs": [],
   "source": [
    "tags_df = tags_df.drop_duplicates()"
   ]
  },
  {
   "cell_type": "code",
   "execution_count": 0,
   "metadata": {
    "colab": {},
    "colab_type": "code",
    "id": "bK1q8WpKJvvo"
   },
   "outputs": [],
   "source": [
    "tags_df.loc[:, \"artists\"] = tags_df.loc[:, \"artists\"].astype(int)"
   ]
  },
  {
   "cell_type": "code",
   "execution_count": 0,
   "metadata": {
    "colab": {},
    "colab_type": "code",
    "id": "QmpqZKK5KsO7"
   },
   "outputs": [],
   "source": [
    "tags_df = tags_df.loc[tags_df[\"artists\"].isin(artists_id)]"
   ]
  },
  {
   "cell_type": "code",
   "execution_count": 0,
   "metadata": {
    "colab": {},
    "colab_type": "code",
    "id": "5bbqYW0PHAoN"
   },
   "outputs": [],
   "source": [
    "tags_df.loc[:,\"artists\"] = le.transform(tags_df.loc[:,\"artists\"].values)\n",
    "tags_df.to_csv(DATA_DIR+\"artists_tags.csv\", index = False)"
   ]
  }
 ],
 "metadata": {
  "colab": {
   "authorship_tag": "ABX9TyO/IbLzIxdG5bweGtxSYpts",
   "collapsed_sections": [],
   "mount_file_id": "1eCpL6_V-Ev2jC_p3rcW8dilTzjCfHLue",
   "name": "prepare_tags.ipynb",
   "provenance": []
  },
  "kernelspec": {
   "display_name": "Python 3",
   "language": "python",
   "name": "python3"
  },
  "language_info": {
   "codemirror_mode": {
    "name": "ipython",
    "version": 3
   },
   "file_extension": ".py",
   "mimetype": "text/x-python",
   "name": "python",
   "nbconvert_exporter": "python",
   "pygments_lexer": "ipython3",
   "version": "3.7.3"
  }
 },
 "nbformat": 4,
 "nbformat_minor": 1
}
