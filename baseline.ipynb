{
 "cells": [
  {
   "cell_type": "markdown",
   "metadata": {},
   "source": [
    "В качестве baseline берется случай, когда в качестве рекомендаций система выдает топ-k самых популярных исполнителей из тестового множества."
   ]
  },
  {
   "cell_type": "code",
   "execution_count": 0,
   "metadata": {
    "colab": {},
    "colab_type": "code",
    "id": "zOTx7_SNr9r2"
   },
   "outputs": [],
   "source": [
    "!pip install nptyping\n",
    "!pip install ml_metrics"
   ]
  },
  {
   "cell_type": "code",
   "execution_count": 0,
   "metadata": {
    "colab": {},
    "colab_type": "code",
    "id": "eF5SND5z9syv"
   },
   "outputs": [],
   "source": [
    "import sys\n",
    "import pandas as pd\n",
    "import numpy as np\n",
    "from sklearn.model_selection import train_test_split\n",
    "import ml_metrics \n",
    "from nptyping import NDArray\n",
    "from typing import Any\n",
    "\n",
    "DATA_DIR = './drive/My Drive/Colab Notebooks/VK_internship/'\n",
    "sys.path.append(DATA_DIR)\n",
    "recommendation = __import__(\"recommendation\") \n",
    "# Я работаю в среде google colaboratory, \n",
    "# поэтому так импортрую свой скрипт recommendation.py"
   ]
  },
  {
   "cell_type": "code",
   "execution_count": 0,
   "metadata": {
    "colab": {},
    "colab_type": "code",
    "id": "wQHyANpXymo-"
   },
   "outputs": [],
   "source": [
    "user_artists_df = pd.read_csv(DATA_DIR+\"users_artists.csv\",                               \n",
    "                              usecols = [\"user_id\", \"artists\"])\n",
    "artists_id = user_artists_df[\"artists\"].unique()\n",
    "artists_id.sort()\n",
    "# Так как в дальнейшем я хочу использовать идентификаторы исполнителей \n",
    "# в качестве индексов для матрицы смежности, то для train я беру первые \n",
    "# несколько последовательных идентификаторов:\n",
    "train, test = train_test_split(artists_id, test_size=0.1)\n",
    "del artists_id"
   ]
  },
  {
   "cell_type": "markdown",
   "metadata": {},
   "source": [
    "Берется 21 самый популярный исполнитель, так как максимальная из рассматриваемых метрик MAP@20 и так как задача в поиске похожих исполнителей, то в рекомендациях должен отсутствовать исполнитель, для которого составляются рекомендации."
   ]
  },
  {
   "cell_type": "code",
   "execution_count": 0,
   "metadata": {
    "colab": {},
    "colab_type": "code",
    "id": "7aD6tkyLg4t0"
   },
   "outputs": [],
   "source": [
    "top_k_artists = recommendation.get_topk_artists_from_idxs(21, user_artists_df, train) \n",
    "# отсортированы по встречаемости"
   ]
  },
  {
   "cell_type": "markdown",
   "metadata": {},
   "source": [
    "Далее идет подсчет всех метрик для элементов тестового множества."
   ]
  },
  {
   "cell_type": "code",
   "execution_count": 0,
   "metadata": {
    "colab": {},
    "colab_type": "code",
    "id": "O-dF6G93hQsa"
   },
   "outputs": [],
   "source": [
    "metrics = {}\n",
    "for k in [1,5,10,20]:\n",
    "    metrics[k]=0\n",
    "\n",
    "for artist_id in test:    \n",
    "    # Поиск списков исполнителей, которых слушают те же пользователи, \n",
    "    # что и artist_id:\n",
    "    users = np.unique(user_artists_df.loc[user_artists_df[\"artists\"]==artist_id, \"user_id\"].values)\n",
    "    similar_artists = user_artists_df.loc[user_artists_df[\"user_id\"].isin(users), \"artists\"].drop_duplicates().values\n",
    "    similar_artists = similar_artists[similar_artists!=artist_id]\n",
    "    recommend = top_k_artists[top_k_artists!=artist_id]\n",
    "    for key in metrics.keys():\n",
    "        metrics[key] += ml_metrics.apk(\n",
    "            actual=list(similar_artists),\n",
    "            predicted=list(recommend[:key]),\n",
    "            k=key\n",
    "        )\n"
   ]
  },
  {
   "cell_type": "code",
   "execution_count": 0,
   "metadata": {
    "colab": {
     "base_uri": "https://localhost:8080/",
     "height": 86
    },
    "colab_type": "code",
    "executionInfo": {
     "elapsed": 2413993,
     "status": "ok",
     "timestamp": 1591885571417,
     "user": {
      "displayName": "Света Сорокина",
      "photoUrl": "https://lh3.googleusercontent.com/a-/AOh14GhP5b7WHhwRcbIn8yB21S2mZi9tlMCD4aFLmFcr=s64",
      "userId": "00408643672459262753"
     },
     "user_tz": -180
    },
    "id": "yMcoP248ih4t",
    "outputId": "e680eb18-4e13-4a9d-ee6a-681217f917d4"
   },
   "outputs": [
    {
     "name": "stdout",
     "output_type": "stream",
     "text": [
      "MAP@1:  0.44686089454247024\n",
      "MAP@5:  0.3633231073855081\n",
      "MAP@10:  0.31999485833633884\n",
      "MAP@20:  0.287371898637225\n"
     ]
    }
   ],
   "source": [
    "for key in metrics.keys():\n",
    "  metrics[key]/=len(test)\n",
    "  print(\"MAP@{}: \".format(key), metrics[key])"
   ]
  },
  {
   "cell_type": "markdown",
   "metadata": {
    "colab": {},
    "colab_type": "code",
    "id": "S9AJcQDakqpx"
   },
   "source": [
    "Результаты вполне неплохие для такого простого способа рекомендаций: почти в половине случаев самый популярный исполнитель тренировочного множества соответствует валидной рекомендации в тестовом множестве."
   ]
  },
  {
   "cell_type": "code",
   "execution_count": null,
   "metadata": {},
   "outputs": [],
   "source": []
  }
 ],
 "metadata": {
  "colab": {
   "authorship_tag": "ABX9TyPXcz3tXYbCpBx1R35hQLrC",
   "collapsed_sections": [],
   "mount_file_id": "10VDK4VPM9ND5z_AdDiZAr6iHuRbAktH9",
   "name": "baseline.ipynb",
   "provenance": []
  },
  "kernelspec": {
   "display_name": "Python 3",
   "language": "python",
   "name": "python3"
  },
  "language_info": {
   "codemirror_mode": {
    "name": "ipython",
    "version": 3
   },
   "file_extension": ".py",
   "mimetype": "text/x-python",
   "name": "python",
   "nbconvert_exporter": "python",
   "pygments_lexer": "ipython3",
   "version": "3.7.3"
  }
 },
 "nbformat": 4,
 "nbformat_minor": 1
}
